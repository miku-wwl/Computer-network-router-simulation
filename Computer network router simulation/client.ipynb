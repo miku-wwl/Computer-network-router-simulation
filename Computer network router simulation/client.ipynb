{
 "cells": [
  {
   "cell_type": "code",
   "execution_count": 1,
   "metadata": {},
   "outputs": [
    {
     "name": "stderr",
     "output_type": "stream",
     "text": [
      "Exception in thread recv:\n",
      "Traceback (most recent call last):\n",
      "  File \"C:\\Anaconda3\\lib\\threading.py\", line 917, in _bootstrap_inner\n",
      "    self.run()\n",
      "  File \"C:\\Anaconda3\\lib\\threading.py\", line 865, in run\n",
      "    self._target(*self._args, **self._kwargs)\n",
      "  File \"<ipython-input-1-19ded95172b1>\", line 15, in recv\n",
      "    recvdata = s.recv(buffsize).decode('utf-8')\n",
      "ConnectionResetError: [WinError 10054] 远程主机强迫关闭了一个现有的连接。\n",
      "\n"
     ]
    }
   ],
   "source": [
    "from socket import *\n",
    "import threading\n",
    "from tkinter import *\n",
    "\n",
    "address='127.0.0.1'   #服务器的ip地址\n",
    "port=9000\n",
    "buffsize=1024\n",
    "s=socket(AF_INET, SOCK_STREAM)\n",
    "s.connect((address,port))\n",
    "\n",
    "\n",
    "\n",
    "def recv():\n",
    "    while True:\n",
    "        recvdata = s.recv(buffsize).decode('utf-8')\n",
    "        gui.listBox.insert(END, recvdata)\n",
    "        print('\\n' + recvdata + '\\n')\n",
    "\n",
    "class GUI:\n",
    "    def __init__(self, root):\n",
    "        self.root = root\n",
    "        self.listBox = Listbox(self.root)\n",
    "        self.listBox.pack()\n",
    "        self.entry = Entry(self.root)\n",
    "        self.entry.pack()\n",
    "        self.sendBtn = Button(self.root, text='发送', command=self.send)\n",
    "        self.sendBtn.pack()\n",
    "\n",
    "    def send(self):\n",
    "        senddata = self.entry.get()\n",
    "        s.send(senddata.encode())\n",
    "\n",
    "def createGUI():\n",
    "    global gui\n",
    "    root = Tk()\n",
    "    gui = GUI(root)\n",
    "    root.title('客户端')\n",
    "    root.mainloop()\n",
    "\n",
    "if __name__ == '__main__':\n",
    "    t1 = threading.Thread(target=recv, args=(), name='recv')\n",
    "    t2 = threading.Thread(target=createGUI, args=(), name='gui')\n",
    "\n",
    "    t1.start()\n",
    "    t2.start()"
   ]
  }
 ],
 "metadata": {
  "kernelspec": {
   "display_name": "Python 3",
   "language": "python",
   "name": "python3"
  },
  "language_info": {
   "codemirror_mode": {
    "name": "ipython",
    "version": 3
   },
   "file_extension": ".py",
   "mimetype": "text/x-python",
   "name": "python",
   "nbconvert_exporter": "python",
   "pygments_lexer": "ipython3",
   "version": "3.7.0"
  }
 },
 "nbformat": 4,
 "nbformat_minor": 2
}
